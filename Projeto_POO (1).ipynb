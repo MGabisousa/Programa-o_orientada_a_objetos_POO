{
  "nbformat": 4,
  "nbformat_minor": 0,
  "metadata": {
    "colab": {
      "provenance": []
    },
    "kernelspec": {
      "name": "python3",
      "display_name": "Python 3"
    },
    "language_info": {
      "name": "python"
    }
  },
  "cells": [
    {
      "cell_type": "code",
      "source": [
        "# Classe para produtos\n",
        "class Produto:\n",
        "    def __init__(self, codigo, nome, preco):\n",
        "        self.codigo = codigo\n",
        "        self.nome = nome\n",
        "        self.preco = preco\n",
        "\n",
        "    def __str__(self):\n",
        "        return f\"{self.nome} - R$ {self.preco:.2f}\"\n",
        "\n",
        "    def get_codigo(self):\n",
        "        return self.codigo\n",
        "\n",
        "# Classe para clientes\n",
        "class Cliente:\n",
        "    def __init__(self, nome, email):\n",
        "        self.nome = nome\n",
        "        self.email = email\n",
        "\n",
        "    def __str__(self):\n",
        "        return f\"{self.nome} ({self.email})\"\n",
        "\n",
        "# Classe para vendas\n",
        "class Venda:\n",
        "    def __init__(self, cliente, lista_produtos):\n",
        "        self.cliente = cliente\n",
        "        self.lista_produtos = lista_produtos\n",
        "\n",
        "    def __str__(self):\n",
        "        return f\"Venda para {self.cliente}:\\n\" + \"\\n\".join([f\"- {produto}\" for produto in self.lista_produtos])\n",
        "\n",
        "    def calcular_total(self):\n",
        "        return sum([produto.preco for produto in self.lista_produtos])\n",
        "\n",
        "# Classe para estoque (herda de Produto)\n",
        "class Estoque(Produto):\n",
        "    def __init__(self, codigo, nome, preco, quantidade):\n",
        "        super().__init__(codigo, nome, preco)\n",
        "        self.quantidade = quantidade\n",
        "\n",
        "    def __str__(self):\n",
        "        return f\"{super().__str__()} ({self.quantidade} disponíveis)\"\n",
        "\n",
        "    def atualizar_quantidade(self, quantidade):\n",
        "        self.quantidade += quantidade\n",
        "\n",
        "# Exemplo de uso\n",
        "p1 = Produto(1, \"Celular\", 1000.00)\n",
        "p2 = Produto(2, \"Notebook\", 2000.00)\n",
        "c1 = Cliente(\"João\", \"joao@gmail.com\")\n",
        "e1 = Estoque(1, \"Celular\", 1000.00, 10)\n",
        "e2 = Estoque(2, \"Notebook\", 2000.00, 5)\n",
        "v1 = Venda(c1, [p1, p2])\n",
        "\n",
        "print(p1)\n",
        "print(c1)\n",
        "print(v1)\n",
        "print(e1)\n",
        "\n",
        "e1.atualizar_quantidade(5)\n",
        "print(e1)\n",
        "print(v1.calcular_total())\n",
        "\n"
      ],
      "metadata": {
        "id": "GNakRz_Y3Ut1",
        "colab": {
          "base_uri": "https://localhost:8080/"
        },
        "outputId": "6225cf87-8515-4348-b38f-ed2129e54650"
      },
      "execution_count": null,
      "outputs": [
        {
          "output_type": "stream",
          "name": "stdout",
          "text": [
            "Celular - R$ 1000.00\n",
            "João (joao@gmail.com)\n",
            "Venda para João (joao@gmail.com):\n",
            "- Celular - R$ 1000.00\n",
            "- Notebook - R$ 2000.00\n",
            "Celular - R$ 1000.00 (10 disponíveis)\n",
            "Celular - R$ 1000.00 (15 disponíveis)\n",
            "3000.0\n"
          ]
        }
      ]
    },
    {
      "cell_type": "code",
      "source": [
        "import pydot\n",
        "\n",
        "graph = pydot.Dot(graph_type='digraph')\n",
        "\n",
        "prod_node = pydot.Node(\"Produto\", shape=\"rectangle\")\n",
        "prod_node.set(\"label\", \"+-----------------+\\n|      Produto    |\\n+-----------------+\\n|codigo: int\\n|nome: str\\n|preco: float\\n+-----------------+\\n|get_codigo()\\n+-----------------+\")\n",
        "graph.add_node(prod_node)\n",
        "\n",
        "est_node = pydot.Node(\"Estoque\", shape=\"rectangle\")\n",
        "est_node.set(\"label\", \"+-----------------+\\n|      Estoque    |\\n+-----------------+\\n|quantidade: int\\n+-----------------+\\n|atualizar_quantidade()\\n+-----------------+\")\n",
        "graph.add_node(est_node)\n",
        "\n",
        "cli_node = pydot.Node(\"Cliente\", shape=\"rectangle\")\n",
        "cli_node.set(\"label\", \"+-----------------+\\n|      Cliente    |\\n+-----------------+\\n|nome: str\\n|email: str\\n+-----------------+\")\n",
        "graph.add_node(cli_node)\n",
        "\n",
        "ven_node = pydot.Node(\"Venda\", shape=\"rectangle\")\n",
        "ven_node.set(\"label\", \"+-----------------+\\n|      Venda      |\\n+-----------------+\\n|cliente: Cliente\\n|lista_produtos: list[Produto]\\n+-----------------+\\n|calcular_total()\\n+-----------------+\")\n",
        "graph.add_node(ven_node)\n",
        "\n",
        "graph.add_edge(pydot.Edge(prod_node, est_node))\n",
        "graph.add_edge(pydot.Edge(est_node, ven_node))\n",
        "graph.add_edge(pydot.Edge(cli_node, ven_node))\n",
        "\n",
        "graph.write_png('diagrama.png')\n",
        "\n",
        "\n"
      ],
      "metadata": {
        "id": "BBhpFcOFQ-P2"
      },
      "execution_count": null,
      "outputs": []
    },
    {
      "cell_type": "code",
      "source": [
        "from google.colab import drive\n",
        "drive.mount('/content/drive')"
      ],
      "metadata": {
        "id": "79TTsbcdYRgZ"
      },
      "execution_count": null,
      "outputs": []
    },
    {
      "cell_type": "markdown",
      "source": [
        "Diagrama de classes (usando o biblioteca pydot)\n"
      ],
      "metadata": {
        "id": "xzezJtxqSsQF"
      }
    },
    {
      "cell_type": "markdown",
      "source": [],
      "metadata": {
        "id": "FiMTy1zq7LlR"
      }
    }
  ]
}